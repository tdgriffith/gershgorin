{
 "cells": [
  {
   "cell_type": "code",
   "execution_count": 1,
   "metadata": {},
   "outputs": [],
   "source": [
    "import numpy as np\n",
    "import pandas as pd\n",
    "import math\n",
    "from bqplot import pyplot as plt\n",
    "import numpy as np\n",
    "import random\n",
    "from sklearn.datasets import make_spd_matrix\n",
    "from IPython.display import display\n",
    "from ipywidgets.widgets import IntSlider, HBox, Button, interact\n",
    "import ipywidgets.widgets as widgets\n",
    "%matplotlib inline"
   ]
  },
  {
   "cell_type": "code",
   "execution_count": 2,
   "metadata": {},
   "outputs": [],
   "source": [
    "w11=widgets.IntText(\n",
    "    value=-5,\n",
    "    disabled=False\n",
    ")\n",
    "w12=widgets.IntText(\n",
    "    value=-1,\n",
    "    disabled=False\n",
    ")\n",
    "w13=widgets.IntText(\n",
    "    value=0,\n",
    "    disabled=False\n",
    ")\n",
    "w14=widgets.IntText(\n",
    "    value=1,\n",
    "    disabled=False\n",
    ")\n",
    "w21=widgets.IntText(\n",
    "    value=1,\n",
    "    disabled=False\n",
    ")\n",
    "w22=widgets.IntText(\n",
    "    value=-4,\n",
    "    disabled=False\n",
    ")\n",
    "w23=widgets.IntText(\n",
    "    value=1,\n",
    "    disabled=False\n",
    ")\n",
    "w24=widgets.IntText(\n",
    "    value=1,\n",
    "    disabled=False\n",
    ")\n",
    "w31=widgets.IntText(\n",
    "    value=1,\n",
    "    disabled=False\n",
    ")\n",
    "w32=widgets.IntText(\n",
    "    value=0,\n",
    "    disabled=False\n",
    ")\n",
    "w33=widgets.IntText(\n",
    "    value=-7,\n",
    "    disabled=False\n",
    ")\n",
    "w34=widgets.IntText(\n",
    "    value=1,\n",
    "    disabled=False\n",
    ")\n",
    "w41=widgets.IntText(\n",
    "    value=-1,\n",
    "    disabled=False\n",
    ")\n",
    "w42=widgets.IntText(\n",
    "    value=-1,\n",
    "    disabled=False\n",
    ")\n",
    "w43=widgets.IntText(\n",
    "    value=-1,\n",
    "    disabled=False\n",
    ")\n",
    "w44=widgets.IntText(\n",
    "    value=-11,\n",
    "    disabled=False\n",
    ")"
   ]
  },
  {
   "cell_type": "code",
   "execution_count": 3,
   "metadata": {},
   "outputs": [],
   "source": [
    "# system_order=w.value; system_order"
   ]
  },
  {
   "cell_type": "code",
   "execution_count": 4,
   "metadata": {},
   "outputs": [],
   "source": [
    "# if system_order==2:\n",
    "#     if w2.value=='Stable':\n",
    "#         input_mat=np.array([[-3, 1], [0.5, -1]])\n",
    "#     if w2.value=='Unstable':\n",
    "#         input_mat=np.array([[2, 3], [0.5, 4]])\n",
    "#     if w2.value=='Random':\n",
    "#         input_mat=make_spd_matrix(2)\n",
    "    "
   ]
  },
  {
   "cell_type": "code",
   "execution_count": null,
   "metadata": {},
   "outputs": [],
   "source": []
  },
  {
   "cell_type": "code",
   "execution_count": 5,
   "metadata": {},
   "outputs": [],
   "source": [
    "# test=np.random.randint(-20,0,size=(system_order,system_order))"
   ]
  },
  {
   "cell_type": "code",
   "execution_count": 6,
   "metadata": {},
   "outputs": [],
   "source": [
    "# np.linalg.eigvals(input_mat)"
   ]
  },
  {
   "cell_type": "code",
   "execution_count": 7,
   "metadata": {},
   "outputs": [],
   "source": [
    "# test=make_spd_matrix(system_order)"
   ]
  },
  {
   "cell_type": "code",
   "execution_count": 8,
   "metadata": {},
   "outputs": [],
   "source": [
    "#input_mat=np.matrix('10 -1 0 1; 0.2 8 0.2 0.2;1 1 2 1; -1 -1 -1 -11'); input_mat"
   ]
  },
  {
   "cell_type": "code",
   "execution_count": 9,
   "metadata": {},
   "outputs": [],
   "source": [
    "input_mat=np.array([[-5, -1, 0, 1], [1, -4, 1, 1], [1, 0, -7, 1], [-1, -1, -1, -11]]); input_mat;"
   ]
  },
  {
   "cell_type": "code",
   "execution_count": 10,
   "metadata": {},
   "outputs": [],
   "source": [
    "# input_mat=np.array([[2, 3], [0.5, 4]]); input_mat"
   ]
  },
  {
   "cell_type": "code",
   "execution_count": 11,
   "metadata": {
    "scrolled": true
   },
   "outputs": [],
   "source": [
    "#input_mat=np.array([[ 10, -1, 0, 1], [0.2, 8, 0.2, 0.2], [1, 1, 2, 1], [-1, -1, -1, -11]]); input_mat"
   ]
  },
  {
   "cell_type": "code",
   "execution_count": 12,
   "metadata": {},
   "outputs": [],
   "source": [
    "center=np.diagonal(input_mat); circle_center=np.transpose(np.copy(center)); circle_center;"
   ]
  },
  {
   "cell_type": "code",
   "execution_count": 13,
   "metadata": {},
   "outputs": [],
   "source": [
    "n_circles=len(circle_center); n_circles;"
   ]
  },
  {
   "cell_type": "code",
   "execution_count": 14,
   "metadata": {},
   "outputs": [],
   "source": [
    "df = pd.DataFrame({'Circle_Center': circle_center,\n",
    "                  'Y_axis': np.transpose(np.zeros(n_circles))})\n",
    "df;"
   ]
  },
  {
   "cell_type": "code",
   "execution_count": 15,
   "metadata": {},
   "outputs": [],
   "source": [
    "np.fill_diagonal(input_mat,0); input_mat;"
   ]
  },
  {
   "cell_type": "code",
   "execution_count": 16,
   "metadata": {
    "scrolled": true
   },
   "outputs": [],
   "source": [
    "row_sum=np.sum(abs(input_mat), axis=0); row_sum;"
   ]
  },
  {
   "cell_type": "code",
   "execution_count": 17,
   "metadata": {},
   "outputs": [],
   "source": [
    "col_sum=np.transpose(np.sum(abs(input_mat), axis=1)); col_sum;"
   ]
  },
  {
   "cell_type": "code",
   "execution_count": 18,
   "metadata": {},
   "outputs": [],
   "source": [
    "circle_radius=np.minimum(row_sum,col_sum); circle_radius;"
   ]
  },
  {
   "cell_type": "code",
   "execution_count": 19,
   "metadata": {},
   "outputs": [],
   "source": [
    "circle_area=math.pi*circle_radius*circle_radius; circle_area;"
   ]
  },
  {
   "cell_type": "code",
   "execution_count": 20,
   "metadata": {},
   "outputs": [],
   "source": [
    "df['Radius']=circle_radius\n",
    "df['Area']=circle_area\n",
    "df;"
   ]
  },
  {
   "cell_type": "code",
   "execution_count": 21,
   "metadata": {},
   "outputs": [],
   "source": [
    "circle_radius[0];"
   ]
  },
  {
   "cell_type": "code",
   "execution_count": 22,
   "metadata": {},
   "outputs": [],
   "source": [
    "circle_center[0];"
   ]
  },
  {
   "cell_type": "code",
   "execution_count": null,
   "metadata": {},
   "outputs": [],
   "source": []
  },
  {
   "cell_type": "code",
   "execution_count": 23,
   "metadata": {},
   "outputs": [],
   "source": [
    "# import matplotlib.pyplot as plt\n",
    "\n",
    "# circle0 = plt.Circle((circle_center[0], 0), circle_radius[0], color='r')\n",
    "# circle1 = plt.Circle((circle_center[1], 0), circle_radius[1], color='b')\n",
    "# circle2 = plt.Circle((circle_center[2], 0), circle_radius[2], color='g')\n",
    "# circle3 = plt.Circle((circle_center[3], 0), circle_radius[3], color='g')\n",
    "\n",
    "# fig, ax = plt.subplots()\n",
    "\n",
    "# plt.xlim(-15,15)\n",
    "# plt.ylim(-15,15)\n",
    "\n",
    "# plt.grid(linestyle='--')\n",
    "\n",
    "# ax.set_aspect(1)\n",
    "\n",
    "# ax.add_artist(circle0)\n",
    "# ax.add_artist(circle1)\n",
    "# ax.add_artist(circle2)\n",
    "# ax.add_artist(circle3)\n",
    "\n",
    "# plt.title('Gershorin', fontsize=8)\n",
    "\n",
    "# plt.show()\n"
   ]
  },
  {
   "cell_type": "code",
   "execution_count": null,
   "metadata": {},
   "outputs": [],
   "source": []
  },
  {
   "cell_type": "code",
   "execution_count": 41,
   "metadata": {},
   "outputs": [],
   "source": [
    "\n",
    "\n",
    "# New functions\n",
    "\n",
    "def circ(x, radius=2):\n",
    "    y = np.sqrt(np.clip(radius**2 - x**2, .0001, None))\n",
    "    y2 = -y\n",
    "    return y, y2\n",
    "# def circ(x, radius=2):\n",
    "#     y = np.sqrt(radius**2 - x**2, .0001)\n",
    "#     return y\n",
    "\n",
    "\n",
    "def _simulate_many_pis(n_simulations, n_per_sample):\n",
    "    n_simulations = np.max([1, n_simulations])\n",
    "    ratios = []\n",
    "    for ratio in range(n_simulations):\n",
    "        sample, inside_dots, ratio, samples_y_curve = _simulate_pi(n_per_sample)\n",
    "        ratios.append(ratio)\n",
    "    return ratios, sample, inside_dots, samples_y_curve\n",
    "\n",
    "def _simulate_pi(n_samples):\n",
    "    sample = np.random.random((n_samples, 2)) * 2\n",
    "    inside_dots, ratio, samples_y_curve = calculate_ratio(sample)\n",
    "    return sample, inside_dots, ratio, samples_y_curve\n",
    "\n",
    "def calculate_ratio(sample):\n",
    "    # Calculate the y-value of the curve for each input sample's x value\n",
    "    samples_y_curve = circ(sample[:, 0])\n",
    "    inside_dots = samples_y_curve > sample[:, 1]\n",
    "    \n",
    "    # Calculate ratio of inside dots to outside dots for this quarter circle\n",
    "    ratio = 4 * (sum(inside_dots) / len(inside_dots))\n",
    "    return inside_dots, ratio, samples_y_curve\n",
    "\n",
    "def _update_plot(change=None):\n",
    "    df=[]\n",
    "    v11 = w11.value\n",
    "    v12 = w12.value\n",
    "    v13 = w13.value\n",
    "    v14 = w14.value\n",
    "    v21 = w21.value\n",
    "    v22 = w22.value\n",
    "    v23 = w23.value\n",
    "    v24 = w24.value\n",
    "    v31 = w31.value\n",
    "    v32 = w32.value\n",
    "    v33 = w33.value\n",
    "    v34 = w34.value\n",
    "    v41 = w41.value\n",
    "    v42 = w42.value\n",
    "    v43 = w43.value\n",
    "    v44 = w44.value\n",
    "    \n",
    "    input_mat=np.array([[v11, v12, v13, v14], [v21, v22, v23, v24], [v31, v32, v33, v34], [v41, v42, v43, v44]])\n",
    "    center=np.diagonal(input_mat); \n",
    "    circle_center=np.transpose(np.copy(center));\n",
    "    n_circles=len(circle_center);\n",
    "    df = pd.DataFrame({'Circle_Center': circle_center,\n",
    "                  'Y_axis': np.transpose(np.zeros(n_circles))})\n",
    "    np.fill_diagonal(input_mat,0);\n",
    "    row_sum=np.sum(abs(input_mat), axis=0);\n",
    "    col_sum=np.transpose(np.sum(abs(input_mat), axis=1));\n",
    "    circle_radius=np.minimum(row_sum,col_sum);\n",
    "    circle_area=math.pi*circle_radius*circle_radius;\n",
    "    df['Radius']=circle_radius;\n",
    "    df['Area']=circle_area;\n",
    "    \n",
    "    plt.clear()\n",
    "    plot_data = {'ratios': []}\n",
    "    MAX_SAMPLES = 1000\n",
    "    MAX_SIMULATIONS = 50\n",
    "    width = '350px'\n",
    "    \n",
    "    # Draw the circle\n",
    "    fig_circle = plt.figure()\n",
    "\n",
    "    for i in range(0,len(df.Radius)):\n",
    "        if df.Radius[i]+df.Circle_Center[i]>=0:\n",
    "            color_stab='FireBrick'\n",
    "        else:\n",
    "            color_stab='Green'\n",
    "        radius=df.Radius[i]\n",
    "        x = np.linspace(-radius, radius, 1000)\n",
    "        y = circ(x, radius)\n",
    "        half_circle = plt.plot(x=x+df.Circle_Center[i], y=y, s=[100] * len(y), colors=[color_stab]*len(x))\n",
    "\n",
    "\n",
    "    #scat = plt.scatter([], [], options={'s': 1})\n",
    "    plt.xlim(-(max(df.Radius)+max(abs(df.Circle_Center))), (max(df.Radius)+max(abs(df.Circle_Center))))\n",
    "    plt.ylim(-(max(df.Radius)+max(abs(df.Circle_Center))),(max(df.Radius)+max(abs(df.Circle_Center))))\n",
    "\n",
    "    fig_circle.layout.height = width\n",
    "    fig_circle.layout.width = width\n",
    "    fig_circle.title=\"Gershgorin Circle Plot\"\n",
    "    with output:\n",
    "        display(df)\n",
    "\n"
   ]
  },
  {
   "cell_type": "code",
   "execution_count": 25,
   "metadata": {},
   "outputs": [],
   "source": []
  },
  {
   "cell_type": "code",
   "execution_count": 26,
   "metadata": {},
   "outputs": [],
   "source": [
    "df.Radius[1]+df.Circle_Center[1];"
   ]
  },
  {
   "cell_type": "markdown",
   "metadata": {},
   "source": [
    "## Input Custom Matrix"
   ]
  },
  {
   "cell_type": "code",
   "execution_count": 27,
   "metadata": {},
   "outputs": [
    {
     "data": {
      "application/vnd.jupyter.widget-view+json": {
       "model_id": "63c6c7d7c46d4616b4efd2ff5f9e3633",
       "version_major": 2,
       "version_minor": 0
      },
      "text/plain": [
       "VBox(children=(Box(children=(IntText(value=-5), IntText(value=-1), IntText(value=0), IntText(value=1)), layout…"
      ]
     },
     "metadata": {},
     "output_type": "display_data"
    }
   ],
   "source": [
    "from ipywidgets import Layout, Button, Box, VBox\n",
    "\n",
    "box_layout = Layout(display='flex',\n",
    "                    flex_flow='row',\n",
    "                    align_items='stretch',\n",
    "                    width='100%')\n",
    "row1 = Box(children=[w11, w12, w13, w14], layout=box_layout)\n",
    "row2 = Box(children=[w21, w22, w23, w24], layout=box_layout)\n",
    "row3 = Box(children=[w31, w32, w33, w34], layout=box_layout)\n",
    "row4 = Box(children=[w41, w42, w43, w44], layout=box_layout)\n",
    "\n",
    "VBox([row1, row2, row3, row4])\n"
   ]
  },
  {
   "cell_type": "code",
   "execution_count": 30,
   "metadata": {},
   "outputs": [],
   "source": [
    "# df"
   ]
  },
  {
   "cell_type": "markdown",
   "metadata": {},
   "source": [
    "## Output Plots"
   ]
  },
  {
   "cell_type": "code",
   "execution_count": 46,
   "metadata": {},
   "outputs": [
    {
     "data": {
      "application/vnd.jupyter.widget-view+json": {
       "model_id": "9175cbd7f8b74edd8dc69ff6cabf7400",
       "version_major": 2,
       "version_minor": 0
      },
      "text/plain": [
       "HBox(children=(Figure(axes=[Axis(scale=LinearScale(max=14.0, min=-14.0)), Axis(color='orangered', orientation=…"
      ]
     },
     "metadata": {},
     "output_type": "display_data"
    }
   ],
   "source": [
    "# Set up figure\n",
    "plt.clear()\n",
    "plot_data = {'ratios': []}\n",
    "MAX_SAMPLES = 1000\n",
    "MAX_SIMULATIONS = 50\n",
    "width = '350px'\n",
    "\n",
    "# Draw the circle\n",
    "fig_circle = plt.figure()\n",
    "xax, yax = plt.axes()['x'], plt.axes()['y']\n",
    "\n",
    "yax.color = 'orangered'\n",
    "\n",
    "\n",
    "for i in range(0,len(df.Radius)):\n",
    "    if df.Radius[i]+df.Circle_Center[i]>=0:\n",
    "        color_stab='FireBrick'\n",
    "    else:\n",
    "        color_stab='Green'\n",
    "    radius=df.Radius[i]\n",
    "    x = np.linspace(-radius, radius, 1000)\n",
    "    y = circ(x, radius)\n",
    "    half_circle = plt.plot(x=x+df.Circle_Center[i], y=y, s=[100] * len(y), colors=[color_stab]*len(x))\n",
    "\n",
    "\n",
    "#scat = plt.scatter([], [], options={'s': 1})\n",
    "plt.xlim(-(max(df.Radius)+max(abs(df.Circle_Center))), (max(df.Radius)+max(abs(df.Circle_Center))))\n",
    "plt.ylim(-(max(df.Radius)+max(abs(df.Circle_Center))),(max(df.Radius)+max(abs(df.Circle_Center))))\n",
    "fig_circle.layout.height = width\n",
    "fig_circle.layout.width = width\n",
    "fig_circle.title=\"Gershgorin Circle Plot\"\n",
    "\n",
    "# # Figure with PI estimation\n",
    "# fig_ratios = plt.figure()\n",
    "# fig_ratios.layout.height = width\n",
    "# fig_ratios.layout.width = width\n",
    "# fig_ratios.title = \"Estimation of Pi\"\n",
    "\n",
    "# pi_line_x = np.arange(0, MAX_SAMPLES, 100)\n",
    "# line = plt.plot(pi_line_x, [np.pi]*len(pi_line_x), ls='--', colors=['black']*len(pi_line_x))\n",
    "# ratio_scatter = plt.scatter([], [], default_size=10)\n",
    "# plt.xlim(0, MAX_SAMPLES)\n",
    "# plt.ylim(2, 4)\n",
    "\n",
    "# Slider to control number of samples\n",
    "samplesslider = IntSlider(value=20, min=10, max=MAX_SAMPLES-1, description=\"$N_{per\\_sample}$\")\n",
    "\n",
    "# Slider to control number of simulations to run\n",
    "simulationslider = IntSlider(value=1, min=1, max=MAX_SIMULATIONS-1, description=\"$N_{simulations}$\")\n",
    "\n",
    "# Button to run a simulation\n",
    "simulatebutton = Button(description=\"Calculate\")\n",
    "simulatebutton.on_click(_update_plot)\n",
    "# simulatebutton.on_click(display(df))\n",
    "\n",
    "# Initialize our UI\n",
    "box = HBox([fig_circle])\n",
    "box2 = HBox([simulatebutton])\n",
    "display(box)"
   ]
  },
  {
   "cell_type": "code",
   "execution_count": 38,
   "metadata": {
    "scrolled": true
   },
   "outputs": [
    {
     "data": {
      "application/vnd.jupyter.widget-view+json": {
       "model_id": "c3878ccac74d479587f211221927e4f1",
       "version_major": 2,
       "version_minor": 0
      },
      "text/plain": [
       "Button(description='Click Me!', style=ButtonStyle())"
      ]
     },
     "metadata": {},
     "output_type": "display_data"
    },
    {
     "data": {
      "application/vnd.jupyter.widget-view+json": {
       "model_id": "2bf46f9259b14d2898d197f9066b1e40",
       "version_major": 2,
       "version_minor": 0
      },
      "text/plain": [
       "Output()"
      ]
     },
     "metadata": {},
     "output_type": "display_data"
    }
   ],
   "source": [
    "button = widgets.Button(description=\"Click Me!\")\n",
    "output = widgets.Output()\n",
    "\n",
    "display(button, output)\n",
    "\n",
    "def on_button_clicked(b):\n",
    "    df=[]\n",
    "    v11 = w11.value\n",
    "    v12 = w12.value\n",
    "    v13 = w13.value\n",
    "    v14 = w14.value\n",
    "    v21 = w21.value\n",
    "    v22 = w22.value\n",
    "    v23 = w23.value\n",
    "    v24 = w24.value\n",
    "    v31 = w31.value\n",
    "    v32 = w32.value\n",
    "    v33 = w33.value\n",
    "    v34 = w34.value\n",
    "    v41 = w41.value\n",
    "    v42 = w42.value\n",
    "    v43 = w43.value\n",
    "    v44 = w44.value\n",
    "    \n",
    "    input_mat=np.array([[v11, v12, v13, v14], [v21, v22, v23, v24], [v31, v32, v33, v34], [v41, v42, v43, v44]])\n",
    "    center=np.diagonal(input_mat); \n",
    "    circle_center=np.transpose(np.copy(center));\n",
    "    n_circles=len(circle_center);\n",
    "    df = pd.DataFrame({'Circle_Center': circle_center,\n",
    "                  'Y_axis': np.transpose(np.zeros(n_circles))})\n",
    "    np.fill_diagonal(input_mat,0);\n",
    "    row_sum=np.sum(abs(input_mat), axis=0);\n",
    "    col_sum=np.transpose(np.sum(abs(input_mat), axis=1));\n",
    "    circle_radius=np.minimum(row_sum,col_sum);\n",
    "    circle_area=math.pi*circle_radius*circle_radius;\n",
    "    df['Radius']=circle_radius;\n",
    "    df['Area']=circle_area;\n",
    "    plt.clear()\n",
    "    plot_data = {'ratios': []}\n",
    "    MAX_SAMPLES = 1000\n",
    "    MAX_SIMULATIONS = 50\n",
    "    width = '350px'\n",
    "\n",
    "    # Draw the circle\n",
    "    #fig_circle = plt.figure()\n",
    "    for i in range(0,len(df.Radius)):\n",
    "        if df.Radius[i]+df.Circle_Center[i]>=0:\n",
    "            color_stab='FireBrick'\n",
    "        else:\n",
    "            color_stab='Green'\n",
    "        radius=df.Radius[i]\n",
    "        x = np.linspace(-radius, radius, 1000)\n",
    "        y = circ(x, radius)\n",
    "        half_circle = plt.plot(x=x+df.Circle_Center[i], y=y, s=[100] * len(y), colors=[color_stab]*len(x))\n",
    "\n",
    "\n",
    "    #scat = plt.scatter([], [], options={'s': 1})\n",
    "    plt.xlim(-(max(df.Radius)+max(abs(df.Circle_Center))), (max(df.Radius)+max(abs(df.Circle_Center))))\n",
    "    plt.ylim(-(max(df.Radius)+max(abs(df.Circle_Center))),(max(df.Radius)+max(abs(df.Circle_Center))))\n",
    "    fig_circle.layout.height = width\n",
    "    fig_circle.layout.width = width\n",
    "    fig_circle.title=\"Gershgorin Circle Plot\"\n",
    "    \n",
    "    with output:\n",
    "        display(df)\n",
    "\n",
    "button.on_click(on_button_clicked)"
   ]
  },
  {
   "cell_type": "code",
   "execution_count": null,
   "metadata": {},
   "outputs": [],
   "source": []
  }
 ],
 "metadata": {
  "kernelspec": {
   "display_name": "Python 3",
   "language": "python",
   "name": "python3"
  },
  "language_info": {
   "codemirror_mode": {
    "name": "ipython",
    "version": 3
   },
   "file_extension": ".py",
   "mimetype": "text/x-python",
   "name": "python",
   "nbconvert_exporter": "python",
   "pygments_lexer": "ipython3",
   "version": "3.8.2"
  }
 },
 "nbformat": 4,
 "nbformat_minor": 2
}
