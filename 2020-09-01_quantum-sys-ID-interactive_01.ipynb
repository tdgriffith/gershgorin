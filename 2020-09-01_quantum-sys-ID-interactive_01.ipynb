{
 "cells": [
  {
   "cell_type": "markdown",
   "metadata": {},
   "source": [
    "# 1. Interactive Quantum System Identifiaction Applet\n",
    "## 1.1 Background\n",
    "The following notebook demonstrates the current version of quantum system identification I've been working on. This notebook demonstrates the algorithm's ability to identify a random quantum system from simulated data.\n",
    "- Select the order of the system\n",
    "- Generate an appropriate basis\n",
    "- Generate a random quantum state transition matrix\n",
    "- Simulate data\n",
    "- Add noise\n",
    "- Regress data onto basis as $\\dot{x}_{data}=\\Theta w$\n",
    "- Estimate original matrix"
   ]
  },
  {
   "cell_type": "markdown",
   "metadata": {},
   "source": [
    "# 2. Import Functions\n",
    "Mostly ipywidgets, bqplot, and numpy"
   ]
  },
  {
   "cell_type": "code",
   "execution_count": 2,
   "metadata": {},
   "outputs": [],
   "source": [
    "import numpy as np\n",
    "import pandas as pd\n",
    "import math\n",
    "from bqplot import pyplot as plt\n",
    "import random\n",
    "from IPython.display import display\n",
    "from ipywidgets.widgets import IntSlider, HBox, Button, interact\n",
    "import ipywidgets.widgets as widgets\n",
    "from scipy import signal\n",
    "%matplotlib inline\n"
   ]
  },
  {
   "cell_type": "markdown",
   "metadata": {},
   "source": [
    "# 3. Select Sytem Order\n",
    "Should work for any order, as long as you have RAM for the basis. Mostly tested with 2 through 5.\n",
    "## n="
   ]
  },
  {
   "cell_type": "code",
   "execution_count": 3,
   "metadata": {},
   "outputs": [
    {
     "data": {
      "application/vnd.jupyter.widget-view+json": {
       "model_id": "a8afa145fcba47129d87c579d5b1396c",
       "version_major": 2,
       "version_minor": 0
      },
      "text/plain": [
       "IntText(value=3)"
      ]
     },
     "metadata": {},
     "output_type": "display_data"
    }
   ],
   "source": [
    "n=widgets.IntText(\n",
    "    value=3,\n",
    "    disabled=False\n",
    ")\n",
    "display(n)"
   ]
  },
  {
   "cell_type": "markdown",
   "metadata": {},
   "source": [
    "# 4. Generate a Basis for the Space\n",
    "Not pauli like, but spans the space.\n",
    "\n",
    "First, generates matricies with a single element in one of the diagonals.\n",
    "\n",
    "Then, generate diagonal element for the real component, ie (1,3 & 3,1) with the same sign, for Hamiltonian structure.\n",
    "\n",
    "Finally, generate diagonal element pairs for imaginary component with opposite sign."
   ]
  },
  {
   "cell_type": "code",
   "execution_count": 4,
   "metadata": {},
   "outputs": [],
   "source": [
    "basis_button = widgets.Button(description=\"Generate Basis\")\n",
    "output = widgets.Output()\n",
    "#display(basis_button, output)\n",
    "def on_basis_button_clicked(b):\n",
    "    #diagonals\n",
    "    output.clear_output()\n",
    "    diag=np.zeros((n.value,n.value,n.value),dtype=complex);\n",
    "    for i in range(n.value):\n",
    "        diag[i,i,i]=0+1j\n",
    "        \n",
    "    idx_start=1;\n",
    "    counter=-1;\n",
    "    count=int(((n.value*n.value)-n.value)/2)\n",
    "    off_complex=np.zeros((count,n.value,n.value),dtype=complex);\n",
    "    for i in range(0,n.value-1):\n",
    "        for ii in range(idx_start,n.value):\n",
    "            if i != ii and i<ii:\n",
    "                off_complex[counter,i,ii]=0+1j\n",
    "                off_complex[counter,ii,i]=0+1j\n",
    "                counter=counter+1\n",
    "                \n",
    "    idx_start=1;\n",
    "    counter=-1;\n",
    "    count=int(((n.value*n.value)-n.value)/2)\n",
    "    off_real=np.zeros((count,n.value,n.value),dtype=complex);\n",
    "    for i in range(0,n.value-1):\n",
    "        for ii in range(idx_start,n.value):\n",
    "            if i != ii and i<ii:\n",
    "                off_real[counter,i,ii]=1+0j\n",
    "                off_real[counter,ii,i]=-1+0j\n",
    "                counter=counter+1\n",
    "\n",
    "    basis=np.concatenate((diag,off_complex,off_real));\n",
    "    basis_button.value=basis\n",
    "    with output:\n",
    "        display(basis)\n",
    "\n",
    "\n",
    "\n",
    "\n",
    "basis_button.on_click(on_basis_button_clicked)"
   ]
  },
  {
   "cell_type": "markdown",
   "metadata": {},
   "source": [
    "# 5. Generate a Random Matrix\n",
    "## 5.1 Matrix Options\n",
    "First, select from a set of options. Default will generate a matrix with random entries in every possible element of the state transition matrix. Off diagonal only leaves zeros on the diagonal. "
   ]
  },
  {
   "cell_type": "code",
   "execution_count": 5,
   "metadata": {},
   "outputs": [
    {
     "data": {
      "application/vnd.jupyter.widget-view+json": {
       "model_id": "e8f6fefd74f841968d4b10e8f9227b56",
       "version_major": 2,
       "version_minor": 0
      },
      "text/plain": [
       "RadioButtons(description='Settings:', options=('default', 'Off Diagonal Matrix Only?', 'Upper Diagonal Only?',…"
      ]
     },
     "metadata": {},
     "output_type": "display_data"
    }
   ],
   "source": [
    "option=widgets.RadioButtons(\n",
    "    options=['default','Off Diagonal Matrix Only?', 'Upper Diagonal Only?', 'Lower Diagonal Only?'],\n",
    "#     value='pineapple',\n",
    "    description='Settings:',\n",
    "    disabled=False\n",
    ")\n",
    "display(option)"
   ]
  },
  {
   "cell_type": "markdown",
   "metadata": {},
   "source": [
    "## 5.2 Generate Random State Matrix\n",
    "This button can be clicked repeatedly. Adds a random component of each basis to form a state matrix for identification."
   ]
  },
  {
   "cell_type": "code",
   "execution_count": 6,
   "metadata": {},
   "outputs": [],
   "source": [
    "matrix_button = widgets.Button(description=\"Generate Matrix\")\n",
    "output = widgets.Output()\n",
    "#display(matrix_button, output)\n",
    "def on_matrix_button_clicked(b):\n",
    "    output.clear_output()\n",
    "    \n",
    "    if option.value == 'default':\n",
    "        A=np.zeros((n.value,n.value),dtype=complex)\n",
    "        for i in range(len(basis_button.value)):\n",
    "            A=A+np.squeeze((basis_button.value[i]*random.random()))\n",
    "            \n",
    "    if option.value == 'Upper Diagonal Only?':\n",
    "        A=np.zeros((n.value,n.value),dtype=complex)\n",
    "        for i in range(0,1):\n",
    "            A=A+np.squeeze((basis_button.value[i]*random.random()))\n",
    "            \n",
    "    if option.value == 'Lower Diagonal Only?':\n",
    "        A=np.zeros((n.value,n.value),dtype=complex)\n",
    "        A=A+np.squeeze((basis_button.value[n.value-1]*random.random()))\n",
    "        \n",
    "    if option.value == 'Off Diagonal Matrix Only?':\n",
    "        A=np.zeros((n.value,n.value),dtype=complex)\n",
    "        for i in range((len(basis_button.value)-n.value),len(basis_button.value)):\n",
    "            A=A+np.squeeze((basis_button.value[i]*random.random()))\n",
    "            \n",
    "    matrix_button.value=A\n",
    "    \n",
    "    \n",
    "\n",
    "    with output:\n",
    "        display(A)\n",
    "\n",
    "\n",
    "\n",
    "matrix_button.on_click(on_matrix_button_clicked)"
   ]
  },
  {
   "cell_type": "markdown",
   "metadata": {},
   "source": [
    "# 6. Generate Data\n",
    "Form the system in state space terms, and use ODE45 to generate 1000 points of data over 10 seconds. Plot the timeseries data."
   ]
  },
  {
   "cell_type": "code",
   "execution_count": 7,
   "metadata": {},
   "outputs": [],
   "source": [
    "#matrix_button.value=np.array([[0-1j, 0],[0,0]])"
   ]
  },
  {
   "cell_type": "code",
   "execution_count": 8,
   "metadata": {},
   "outputs": [
    {
     "data": {
      "application/vnd.jupyter.widget-view+json": {
       "model_id": "2c1304cdae9b4388a0a0de571113f968",
       "version_major": 2,
       "version_minor": 0
      },
      "text/plain": [
       "Button(description='Simulate Data', style=ButtonStyle())"
      ]
     },
     "metadata": {},
     "output_type": "display_data"
    },
    {
     "data": {
      "application/vnd.jupyter.widget-view+json": {
       "model_id": "75ab9d43fdde4489ab0b90d467c74586",
       "version_major": 2,
       "version_minor": 0
      },
      "text/plain": [
       "Output()"
      ]
     },
     "metadata": {},
     "output_type": "display_data"
    }
   ],
   "source": [
    "simdata_button = widgets.Button(description=\"Simulate Data\")\n",
    "\n",
    "t = np.linspace(0, 10, 1000, endpoint=False)\n",
    "output = widgets.Output()\n",
    "#display(simdata_button, output)\n",
    "def on_simdata_button_clicked(b):\n",
    "    output.clear_output()\n",
    "    Xinit=np.ones(n.value)-(1j*np.ones(n.value))\n",
    "\n",
    "    sys = signal.StateSpace(matrix_button.value, np.zeros((n.value,1)), np.zeros((1,n.value)),0)\n",
    "    \n",
    "\n",
    "    tout, yout, xout = signal.lsim(sys,U=0,T=t,X0=Xinit)\n",
    "    plt.clear()\n",
    "    \n",
    "    fig = plt.figure(title=\"Simulated Data\")\n",
    "    line_chart = plt.plot(x=tout, y=np.real(np.transpose(xout)))\n",
    "    line_chart1 = plt.plot(x=tout, y=np.imag(np.transpose(xout)))\n",
    "\n",
    "    simdata_button.value=xout\n",
    "    \n",
    "\n",
    "    \n",
    "    \n",
    "\n",
    "    with output:\n",
    "        display(fig)\n",
    "\n",
    "\n",
    "\n",
    "\n",
    "simdata_button.on_click(on_simdata_button_clicked)"
   ]
  },
  {
   "cell_type": "markdown",
   "metadata": {},
   "source": [
    "# 7. Regress Data Onto Basis Library Using Only Output Data\n",
    "In SINDY like fashion, pass data through each basis function to generate $\\Theta$. Regress onto the numerical derivative of the data, $\\dot{x}$, as $\\dot{x}=\\Theta w$. Result, $w$ is the coefficient in front of each basis. "
   ]
  },
  {
   "cell_type": "code",
   "execution_count": 9,
   "metadata": {},
   "outputs": [],
   "source": [
    "regress_button = widgets.Button(description=\"Estimate State Matrix\")\n",
    "output = widgets.Output()\n",
    "#display(regress_button, output)\n",
    "def on_regress_button_clicked(b):\n",
    "    output.clear_output()\n",
    "    Theta_cust=np.empty((len(simdata_button.value), 0))\n",
    "    for i in range(len(basis_button.value)):\n",
    "        x_sigma=np.matmul(simdata_button.value,basis_button.value[i])\n",
    "        Theta_cust=np.append(Theta_cust,x_sigma,axis=1)\n",
    "    Theta_cust=np.reshape(Theta_cust,[-1,len(basis_button.value)],'F')\n",
    "    Theta=np.concatenate((np.real(Theta_cust),np.imag(Theta_cust)),axis=0) \n",
    "\n",
    "    dx=np.gradient(simdata_button.value,0.01,axis=0)\n",
    "    dx2=np.squeeze(np.concatenate((np.real(dx.flatten('F')),np.imag(dx.flatten('F')))))\n",
    "    Xi=np.linalg.lstsq(Theta,dx2,rcond=None)\n",
    "    \n",
    "    lambda_knob=0.1\n",
    "    smallinds=np.argwhere(abs(Xi[0])<lambda_knob)\n",
    "    Theta_small=np.delete(Theta,smallinds,axis=1);\n",
    "    basis_small=np.delete(basis_button.value,smallinds,axis=0)\n",
    "    Xi=np.linalg.lstsq(Theta_small,dx2,rcond=None)\n",
    "    A_solve=np.zeros([n.value,n.value])\n",
    "    for i in range(len(basis_small)):\n",
    "        if np.all(np.isreal(basis_small[i])):\n",
    "            Xi[0][i]=-Xi[0][i]\n",
    "        A_solve=A_solve+(Xi[0][i]*basis_small[i])\n",
    "        \n",
    "    regress_button.value=A_solve\n",
    "        \n",
    "\n",
    "    \n",
    "    \n",
    "\n",
    "    with output:\n",
    "        display(A_solve)\n",
    "\n",
    "\n",
    "\n",
    "\n",
    "regress_button.on_click(on_regress_button_clicked)"
   ]
  },
  {
   "cell_type": "code",
   "execution_count": 10,
   "metadata": {},
   "outputs": [],
   "source": [
    "# Xi=regress_button.value; \n",
    "# basis=basis_button.value; basis\n",
    "# for i in range(len(basis)):\n",
    "#     if np.all(np.isreal(basis[i])):\n",
    "#         Xi[0][i]=-Xi[0][i]\n",
    "    "
   ]
  },
  {
   "cell_type": "markdown",
   "metadata": {},
   "source": [
    "# 8. Compare Results & Demo"
   ]
  },
  {
   "cell_type": "code",
   "execution_count": 11,
   "metadata": {},
   "outputs": [
    {
     "data": {
      "application/vnd.jupyter.widget-view+json": {
       "model_id": "c173d3445d7f4a5197327ac3f02a4380",
       "version_major": 2,
       "version_minor": 0
      },
      "text/plain": [
       "Button(description='Generate Basis', style=ButtonStyle())"
      ]
     },
     "metadata": {},
     "output_type": "display_data"
    },
    {
     "data": {
      "application/vnd.jupyter.widget-view+json": {
       "model_id": "1b1a490c32ef465bbb2cbff77850a073",
       "version_major": 2,
       "version_minor": 0
      },
      "text/plain": [
       "Button(description='Generate Matrix', style=ButtonStyle())"
      ]
     },
     "metadata": {},
     "output_type": "display_data"
    },
    {
     "data": {
      "application/vnd.jupyter.widget-view+json": {
       "model_id": "2c1304cdae9b4388a0a0de571113f968",
       "version_major": 2,
       "version_minor": 0
      },
      "text/plain": [
       "Button(description='Simulate Data', style=ButtonStyle())"
      ]
     },
     "metadata": {},
     "output_type": "display_data"
    },
    {
     "data": {
      "application/vnd.jupyter.widget-view+json": {
       "model_id": "999c3fc4ab8f44369d78bf55f888f9ab",
       "version_major": 2,
       "version_minor": 0
      },
      "text/plain": [
       "Button(description='Estimate State Matrix', style=ButtonStyle())"
      ]
     },
     "metadata": {},
     "output_type": "display_data"
    },
    {
     "data": {
      "application/vnd.jupyter.widget-view+json": {
       "model_id": "c0bb8c84e96840c18073da1c617d8028",
       "version_major": 2,
       "version_minor": 0
      },
      "text/plain": [
       "Button(description='Compare Results', style=ButtonStyle())"
      ]
     },
     "metadata": {},
     "output_type": "display_data"
    },
    {
     "data": {
      "application/vnd.jupyter.widget-view+json": {
       "model_id": "26a495a39ebf414cbd71d67094703d5d",
       "version_major": 2,
       "version_minor": 0
      },
      "text/plain": [
       "Output()"
      ]
     },
     "metadata": {},
     "output_type": "display_data"
    }
   ],
   "source": [
    "results_button = widgets.Button(description=\"Compare Results\")\n",
    "output = widgets.Output()\n",
    "\n",
    "display(basis_button,matrix_button,simdata_button,regress_button,results_button, output)\n",
    "# display(matrix_button.value)\n",
    "# display(regress_button.value)\n",
    "\n",
    "\n",
    "      \n",
    "def on_results_button_clicked(b):\n",
    "    output.clear_output()\n",
    "    A_solve=regress_button.value\n",
    "    Xinit=np.ones(n.value)-(1j*np.ones(n.value))\n",
    "    norm_error=np.linalg.norm((matrix_button.value-regress_button.value))\n",
    "    sys_org = signal.StateSpace(matrix_button.value, np.zeros((n.value,1)), np.zeros((1,n.value)),0)\n",
    "    sys_id = signal.StateSpace(regress_button.value, np.zeros((n.value,1)), np.zeros((1,n.value)),0)\n",
    "    tout, yout, xout = signal.lsim(sys_org,U=0,T=t,X0=Xinit)\n",
    "    tout_id, yout_id, xout_id = signal.lsim(sys_id,U=0,T=t,X0=Xinit)\n",
    "    plt.clear()\n",
    "    result=[]\n",
    "    result=np.concatenate((np.real(np.transpose(xout)),np.imag(np.transpose(xout)),np.real(np.transpose(xout_id)),np.imag(np.transpose(xout_id))))\n",
    "    result_sim=np.concatenate((np.real(np.transpose(xout)),np.imag(np.transpose(xout))))\n",
    "    result_id=np.concatenate((np.real(np.transpose(xout_id)),np.imag(np.transpose(xout_id))))\n",
    "    fig = plt.figure(title=\"Compare Simulated Data to Identified System\")\n",
    "    line_chart =plt.plot(tout, result_id, 'ks--')   \n",
    "    line_chart =plt.plot(x=tout, y=result_sim) \n",
    "    \n",
    "    \n",
    "    with output:\n",
    "        display(fig,A_solve,matrix_button.value,['Norm Error= '+ str(norm_error)])\n",
    "\n",
    "\n",
    "\n",
    "\n",
    "results_button.on_click(on_results_button_clicked)"
   ]
  },
  {
   "cell_type": "code",
   "execution_count": null,
   "metadata": {},
   "outputs": [],
   "source": []
  },
  {
   "cell_type": "code",
   "execution_count": null,
   "metadata": {},
   "outputs": [],
   "source": []
  }
 ],
 "metadata": {
  "kernelspec": {
   "display_name": "Python 3",
   "language": "python",
   "name": "python3"
  },
  "language_info": {
   "codemirror_mode": {
    "name": "ipython",
    "version": 3
   },
   "file_extension": ".py",
   "mimetype": "text/x-python",
   "name": "python",
   "nbconvert_exporter": "python",
   "pygments_lexer": "ipython3",
   "version": "3.8.2"
  }
 },
 "nbformat": 4,
 "nbformat_minor": 2
}
