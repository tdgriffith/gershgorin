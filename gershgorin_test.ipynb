{
 "cells": [
  {
   "cell_type": "code",
   "execution_count": 60,
   "metadata": {},
   "outputs": [],
   "source": [
    "import numpy as np\n"
   ]
  },
  {
   "cell_type": "code",
   "execution_count": 61,
   "metadata": {},
   "outputs": [],
   "source": [
    "#input_mat=np.matrix('10 -1 0 1; 0.2 8 0.2 0.2;1 1 2 1; -1 -1 -1 -11'); input_mat"
   ]
  },
  {
   "cell_type": "code",
   "execution_count": 79,
   "metadata": {},
   "outputs": [
    {
     "data": {
      "text/plain": [
       "array([[ -5. ,  -1. ,   0. ,   1. ],\n",
       "       [  0.2,  -4. ,   0.2,   0.2],\n",
       "       [  1. ,   1. ,  -2. ,   1. ],\n",
       "       [ -1. ,  -1. ,  -1. , -11. ]])"
      ]
     },
     "execution_count": 79,
     "metadata": {},
     "output_type": "execute_result"
    }
   ],
   "source": [
    "input_mat=np.array([[ -5, -1, 0, 1], [0.2, -4, 0.2, 0.2], [1, 1, -2, 1], [-1, -1, -1, -11]]); input_mat"
   ]
  },
  {
   "cell_type": "code",
   "execution_count": 80,
   "metadata": {
    "scrolled": true
   },
   "outputs": [],
   "source": [
    "#input_mat=np.array([[ 10, -1, 0, 1], [0.2, 8, 0.2, 0.2], [1, 1, 2, 1], [-1, -1, -1, -11]]); input_mat"
   ]
  },
  {
   "cell_type": "code",
   "execution_count": 81,
   "metadata": {},
   "outputs": [
    {
     "data": {
      "text/plain": [
       "array([ -5.,  -4.,  -2., -11.])"
      ]
     },
     "execution_count": 81,
     "metadata": {},
     "output_type": "execute_result"
    }
   ],
   "source": [
    "center=np.diagonal(input_mat); circle_center=np.copy(center); circle_center"
   ]
  },
  {
   "cell_type": "code",
   "execution_count": 82,
   "metadata": {},
   "outputs": [
    {
     "data": {
      "text/plain": [
       "4"
      ]
     },
     "execution_count": 82,
     "metadata": {},
     "output_type": "execute_result"
    }
   ],
   "source": [
    "n_circles=len(circle_center); n_circles"
   ]
  },
  {
   "cell_type": "code",
   "execution_count": 83,
   "metadata": {},
   "outputs": [
    {
     "data": {
      "text/plain": [
       "array([[ 0. , -1. ,  0. ,  1. ],\n",
       "       [ 0.2,  0. ,  0.2,  0.2],\n",
       "       [ 1. ,  1. ,  0. ,  1. ],\n",
       "       [-1. , -1. , -1. ,  0. ]])"
      ]
     },
     "execution_count": 83,
     "metadata": {},
     "output_type": "execute_result"
    }
   ],
   "source": [
    "np.fill_diagonal(input_mat,0); input_mat"
   ]
  },
  {
   "cell_type": "code",
   "execution_count": 84,
   "metadata": {
    "scrolled": true
   },
   "outputs": [
    {
     "data": {
      "text/plain": [
       "array([2.2, 3. , 1.2, 2.2])"
      ]
     },
     "execution_count": 84,
     "metadata": {},
     "output_type": "execute_result"
    }
   ],
   "source": [
    "row_sum=np.sum(abs(input_mat), axis=0); row_sum"
   ]
  },
  {
   "cell_type": "code",
   "execution_count": 85,
   "metadata": {},
   "outputs": [
    {
     "data": {
      "text/plain": [
       "array([2. , 0.6, 3. , 3. ])"
      ]
     },
     "execution_count": 85,
     "metadata": {},
     "output_type": "execute_result"
    }
   ],
   "source": [
    "col_sum=np.transpose(np.sum(abs(input_mat), axis=1)); col_sum"
   ]
  },
  {
   "cell_type": "code",
   "execution_count": 86,
   "metadata": {},
   "outputs": [
    {
     "data": {
      "text/plain": [
       "array([2. , 0.6, 1.2, 2.2])"
      ]
     },
     "execution_count": 86,
     "metadata": {},
     "output_type": "execute_result"
    }
   ],
   "source": [
    "circle_radius=np.minimum(row_sum,col_sum); circle_radius"
   ]
  },
  {
   "cell_type": "code",
   "execution_count": 87,
   "metadata": {},
   "outputs": [
    {
     "data": {
      "text/plain": [
       "2.0"
      ]
     },
     "execution_count": 87,
     "metadata": {},
     "output_type": "execute_result"
    }
   ],
   "source": [
    "circle_radius[0]"
   ]
  },
  {
   "cell_type": "code",
   "execution_count": 88,
   "metadata": {},
   "outputs": [
    {
     "data": {
      "text/plain": [
       "-5.0"
      ]
     },
     "execution_count": 88,
     "metadata": {},
     "output_type": "execute_result"
    }
   ],
   "source": [
    "circle_center[0]"
   ]
  },
  {
   "cell_type": "code",
   "execution_count": 90,
   "metadata": {},
   "outputs": [
    {
     "data": {
      "image/png": "[encoded data removed]",
      "text/plain": [
       "<Figure size 432x288 with 1 Axes>"
      ]
     },
     "metadata": {
      "needs_background": "light"
     },
     "output_type": "display_data"
    }
   ],
   "source": [
    "import matplotlib.pyplot as plt\n",
    "\n",
    "circle0 = plt.Circle((circle_center[0], 0), circle_radius[0], color='r')\n",
    "circle1 = plt.Circle((circle_center[1], 0), circle_radius[1], color='b')\n",
    "circle2 = plt.Circle((circle_center[2], 0), circle_radius[2], color='g')\n",
    "circle3 = plt.Circle((circle_center[3], 0), circle_radius[3], color='g')\n",
    "\n",
    "fig, ax = plt.subplots()\n",
    "\n",
    "plt.xlim(-15,15)\n",
    "plt.ylim(-15,15)\n",
    "\n",
    "plt.grid(linestyle='--')\n",
    "\n",
    "ax.set_aspect(1)\n",
    "\n",
    "ax.add_artist(circle0)\n",
    "ax.add_artist(circle1)\n",
    "ax.add_artist(circle2)\n",
    "ax.add_artist(circle3)\n",
    "\n",
    "plt.title('Gershorin', fontsize=8)\n",
    "\n",
    "plt.show()\n"
   ]
  },
  {
   "cell_type": "code",
   "execution_count": null,
   "metadata": {},
   "outputs": [],
   "source": []
  },
  {
   "cell_type": "code",
   "execution_count": null,
   "metadata": {},
   "outputs": [],
   "source": []
  },
  {
   "cell_type": "code",
   "execution_count": null,
   "metadata": {},
   "outputs": [],
   "source": []
  },
  {
   "cell_type": "code",
   "execution_count": null,
   "metadata": {},
   "outputs": [],
   "source": []
  },
  {
   "cell_type": "code",
   "execution_count": null,
   "metadata": {},
   "outputs": [],
   "source": []
  }
 ],
 "metadata": {
  "kernelspec": {
   "display_name": "Python 3",
   "language": "python",
   "name": "python3"
  },
  "language_info": {
   "codemirror_mode": {
    "name": "ipython",
    "version": 3
   },
   "file_extension": ".py",
   "mimetype": "text/x-python",
   "name": "python",
   "nbconvert_exporter": "python",
   "pygments_lexer": "ipython3",
   "version": "3.7.6"
  }
 },
 "nbformat": 4,
 "nbformat_minor": 2
}
